
{
 "cells": [
  {
   "cell_type": "markdown",
   "metadata": {},
   "source": [
    "# Logistic Regression using Theano on MNIST digits dataset"
   ]
  },
  {
   "cell_type": "code",
   "execution_count": 151,
   "metadata": {
    "collapsed": false
   },
   "outputs": [],
   "source": [
    "import theano\n",
    "from theano import tensor as T\n",
    "import numpy as np\n",
    "from load import mnist"
   ]
  },
  {
   "cell_type": "code",
   "execution_count": 152,
   "metadata": {
    "collapsed": true
   },
   "outputs": [],
   "source": [
    "def floatX(X):\n",
    "    return np.asarray(X, dtype=theano.config.floatX)\n",
    "\n",
    "def init_weights(shape):\n",
    "    return theano.shared(floatX(np.random.randn(*shape) * 0.01))\n",
    "\n",
    "def model(X, w):\n",
    "    return T.nnet.softmax(T.dot(X, w))"
   ]
  },
  {
   "cell_type": "code",
   "execution_count": 153,
   "metadata": {
    "collapsed": true
   },
   "outputs": [],
   "source": [
    "trX, teX, trY, teY = mnist(onehot=True)"
   ]
  },
  {
   "cell_type": "markdown",
   "metadata": {},
   "source": [
    "Training set (input values X). We have 784 features because MNIST images are 28x28 pixels"
   ]
  },
  {
   "cell_type": "code",
   "execution_count": 161,
   "metadata": {
    "collapsed": false
   },
   "outputs": [
    {
     "data": {
      "image/png": "iVBORw0KGgoAAAANSUhEUgAAACAAAAASCAYAAAA6yNxSAAAABHNCSVQICAgIfAhkiAAAAd1JREFU\nSInt1U2IjVEYB/Dfvdy5YmYyyVeJ8VWmkIVYkHxtJhtZWSglxazQSCRlI6wsJJ8pkkhkQWywtBA1\nKSXFgrBQLMggrsV5b/d4nfc1zWY2/nV7z33+/3Oe/3nOc96XEUYlGvfiFAbwFd/wK+If4UQ2noZ9\naKCOsTiCp//Itxs1HE6R/dmCRb/eTDcBNzE1mjsTzzG3JPkMfMHBOFiNxnMwHW0YJVSnguXCzu9k\nui24h3fR3Fe4gK0lBvYLlfoDsYGfeI0fWqVvxwHsiXSzsDqRYFAobwobcL/EXCFOYmkutk04ksvo\nymJ1PMHCxBrtOJeNG3JHUIZlOJOI14WGbAjHsAmXtHokj0OYPRwDj4XmSqEDd7Ua9BYmJ3SLhNvS\nxJANrMGzEn4vzmIdXmpVY0GkqQqN2TYcA9dxvoDbhdvR/3E4JjTuQBTvw6rc3CEZqOGzcHZ5VPAR\n8xPc9ixBD6bgeELzl4HRCdESYVcfEtxEjMeLBHcaRzEGazFPeGE10byiG4XeuIgbiXVszpz2JbgK\n3gsvpzw68Ea4JSl0S1SgmhBOyp7fE1wDO4TddkfxTqFndgrfkBRquWch1uMTFpdoVgjlvYoruIaV\nBdpOPMBbYQODeJjl+Y+Rx28b4mYCInaTiQAAAABJRU5ErkJggg==\n",
      "text/latex": [
       "$$784$$"
      ],
      "text/plain": [
       "784"
      ]
     },
     "execution_count": 161,
     "metadata": {},
     "output_type": "execute_result"
    }
   ],
   "source": [
    "trX.shape[1]"
   ]
  },
  {
   "cell_type": "code",
   "execution_count": 163,
   "metadata": {
    "collapsed": false,
    "scrolled": true
   },
   "outputs": [
    {
     "data": {
      "image/png": "iVBORw0KGgoAAAANSUhEUgAAABYAAAASCAYAAABfJS4tAAAABHNCSVQICAgIfAhkiAAAARFJREFU\nOI3t1E8rhFEUx/GP/zUy/iRlIQskGynJi8EL8AJs7GXJC7CwtJCNLGzYKgsKGzuSGrMRzYY0Fs+d\nekz3zuQpO6dup3t+93zPubfO5Y+sIxEv4QLzCX0W23hAHaPYQKVVsSVchoSYDeIJq7nYJm7RG0uY\nwwn2Q7cp8BZe0J2LjeAT6606FuAp8D2OI/EbnDU2ne0qNNkAZvAY0Z6xWBQ8GfxbRKuhjL4i4HLw\nHwkwDBUBfwUfe/+e4LuKgKsttP7g34uAK7JuhxPg16LgGq4wEdGmcd3Y/BZMNkTLfn4HU6HYYbvk\nA9mVSxFtXHbltVxsF3cSIz2GU9nM18Oq4hwrTWcXQuc72MOR+PP8G9+h9zR5oMrAqAAAAABJRU5E\nrkJggg==\n",
      "text/latex": [
       "$$10$$"
      ],
      "text/plain": [
       "10"
      ]
     },
     "execution_count": 163,
     "metadata": {},
     "output_type": "execute_result"
    }
   ],
   "source": [
    "trY.shape[1]"
   ]
  },
  {
   "cell_type": "markdown",
   "metadata": {},
   "source": [
    "Note that label matrix `trY` has 10 columns because it's a \"one-hot\" encoding of digits 0..9"
   ]
  },
  {
   "cell_type": "code",
   "execution_count": 164,
   "metadata": {
    "collapsed": true
   },
   "outputs": [],
   "source": [
    "X = T.fmatrix()\n",
    "Y = T.fmatrix()\n",
    "w = init_weights((784, 10))"
   ]
  },
  {
   "cell_type": "code",
   "execution_count": 165,
   "metadata": {
    "collapsed": true
   },
   "outputs": [],
   "source": [
    "learning_rate = 0.05\n",
    "py_x = model(X, w)\n",
    "y_pred = T.argmax(py_x, axis=1)\n",
    "cost = T.mean(T.nnet.categorical_crossentropy(py_x, Y))\n",
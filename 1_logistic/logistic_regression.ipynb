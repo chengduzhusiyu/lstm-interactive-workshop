
{
 "cells": [
  {
   "cell_type": "markdown",
   "metadata": {},
   "source": [
    "# Logistic Regression using Theano on MNIST digits dataset"
   ]
  },
  {
   "cell_type": "code",
   "execution_count": 151,
   "metadata": {
    "collapsed": false
   },
   "outputs": [],
   "source": [
    "import theano\n",
    "from theano import tensor as T\n",
    "import numpy as np\n",
    "from load import mnist"
   ]
  },
  {
   "cell_type": "code",
   "execution_count": 152,
   "metadata": {
    "collapsed": true
   },
   "outputs": [],
   "source": [
    "def floatX(X):\n",
    "    return np.asarray(X, dtype=theano.config.floatX)\n",
    "\n",
    "def init_weights(shape):\n",
    "    return theano.shared(floatX(np.random.randn(*shape) * 0.01))\n",
    "\n",
    "def model(X, w):\n",
    "    return T.nnet.softmax(T.dot(X, w))"
   ]
  },
  {
   "cell_type": "code",
   "execution_count": 153,
   "metadata": {
    "collapsed": true
   },
   "outputs": [],
   "source": [
    "trX, teX, trY, teY = mnist(onehot=True)"
   ]
  },
  {
   "cell_type": "markdown",
   "metadata": {},
   "source": [
    "Training set (input values X). We have 784 features because MNIST images are 28x28 pixels"
   ]
  },
  {
   "cell_type": "code",
   "execution_count": 161,
   "metadata": {
    "collapsed": false
   },
   "outputs": [
    {
     "data": {
      "image/png": "iVBORw0KGgoAAAANSUhEUgAAACAAAAASCAYAAAA6yNxSAAAABHNCSVQICAgIfAhkiAAAAd1JREFU\nSInt1U2IjVEYB/Dfvdy5YmYyyVeJ8VWmkIVYkHxtJhtZWSglxazQSCRlI6wsJJ8pkkhkQWywtBA1\nKSXFgrBQLMggrsV5b/d4nfc1zWY2/nV7z33+/3Oe/3nOc96XEUYlGvfiFAbwFd/wK+If4UQ2noZ9\naKCOsTiCp//Itxs1HE6R/dmCRb/eTDcBNzE1mjsTzzG3JPkMfMHBOFiNxnMwHW0YJVSnguXCzu9k\nui24h3fR3Fe4gK0lBvYLlfoDsYGfeI0fWqVvxwHsiXSzsDqRYFAobwobcL/EXCFOYmkutk04ksvo\nymJ1PMHCxBrtOJeNG3JHUIZlOJOI14WGbAjHsAmXtHokj0OYPRwDj4XmSqEDd7Ua9BYmJ3SLhNvS\nxJANrMGzEn4vzmIdXmpVY0GkqQqN2TYcA9dxvoDbhdvR/3E4JjTuQBTvw6rc3CEZqOGzcHZ5VPAR\n8xPc9ixBD6bgeELzl4HRCdESYVcfEtxEjMeLBHcaRzEGazFPeGE10byiG4XeuIgbiXVszpz2JbgK\n3gsvpzw68Ea4JSl0S1SgmhBOyp7fE1wDO4TddkfxTqFndgrfkBRquWch1uMTFpdoVgjlvYoruIaV\nBdpOPMBbYQODeJjl+Y+Rx28b4mYCInaTiQAAAABJRU5ErkJggg==\n",
      "text/latex": [
       "$$784$$"
      ],
      "text/plain": [
       "784"
      ]
     },
     "execution_count": 161,
     "metadata": {},
     "output_type": "execute_result"
    }
   ],
   "source": [
    "trX.shape[1]"
   ]
  },
  {
   "cell_type": "code",
   "execution_count": 163,
   "metadata": {
    "collapsed": false,
    "scrolled": true
   },
   "outputs": [
    {
     "data": {
      "image/png": "iVBORw0KGgoAAAANSUhEUgAAABYAAAASCAYAAABfJS4tAAAABHNCSVQICAgIfAhkiAAAARFJREFU\nOI3t1E8rhFEUx/GP/zUy/iRlIQskGynJi8EL8AJs7GXJC7CwtJCNLGzYKgsKGzuSGrMRzYY0Fs+d\nekz3zuQpO6dup3t+93zPubfO5Y+sIxEv4QLzCX0W23hAHaPYQKVVsSVchoSYDeIJq7nYJm7RG0uY\nwwn2Q7cp8BZe0J2LjeAT6606FuAp8D2OI/EbnDU2ne0qNNkAZvAY0Z6xWBQ8GfxbRKuhjL4i4HLw\nHwkwDBUBfwUfe/+e4LuKgKsttP7g34uAK7JuhxPg16LgGq4wEdGmcd3Y/BZMNkTLfn4HU6HYYbvk\nA9mVSxFtXHbltVxsF3cSIz2GU9nM18Oq4hwrTWcXQuc72MOR+PP8G9+h9zR5oMrAqAAAAABJRU5E\nrkJggg==\n",
      "text/latex": [
       "$$10$$"
      ],
      "text/plain": [
       "10"
      ]
     },
     "execution_count": 163,
     "metadata": {},
     "output_type": "execute_result"
    }
   ],
   "source": [
    "trY.shape[1]"
   ]
  },
  {
   "cell_type": "markdown",
   "metadata": {},
   "source": [
    "Note that label matrix `trY` has 10 columns because it's a \"one-hot\" encoding of digits 0..9"
   ]
  },
  {
   "cell_type": "code",
   "execution_count": 164,
   "metadata": {
    "collapsed": true
   },
   "outputs": [],
   "source": [
    "X = T.fmatrix()\n",
    "Y = T.fmatrix()\n",
    "w = init_weights((784, 10))"
   ]
  },
  {
   "cell_type": "code",
   "execution_count": 165,
   "metadata": {
    "collapsed": true
   },
   "outputs": [],
   "source": [
    "learning_rate = 0.05\n",
    "py_x = model(X, w)\n",
    "y_pred = T.argmax(py_x, axis=1)\n",
    "cost = T.mean(T.nnet.categorical_crossentropy(py_x, Y))\n",
    "gradient = T.grad(cost=cost, wrt=w)\n",
    "update = [[w, w - gradient * learning_rate]]"
   ]
  },
  {
   "cell_type": "code",
   "execution_count": 166,
   "metadata": {
    "collapsed": true
   },
   "outputs": [],
   "source": [
    "train = theano.function(inputs=[X, Y], outputs=cost, updates=update, allow_input_downcast=True)\n",
    "predict = theano.function(inputs=[X], outputs=y_pred, allow_input_downcast=True)\n",
    "Yground = np.argmax(teY, axis=1)"
   ]
  },
  {
   "cell_type": "code",
   "execution_count": 167,
   "metadata": {
    "collapsed": false
   },
   "outputs": [
    {
     "name": "stdout",
     "output_type": "stream",
     "text": [
      "0 0.8969\n",
      "10 0.9195\n",
      "20 0.9217\n",
      "30 0.9226\n",
      "40 0.9228\n",
      "50 0.9241\n",
      "60 0.9245\n",
      "70 0.9244\n",
      "80 0.9246\n",
      "90 0.9247\n"
     ]
    }
   ],
   "source": [
    "batch_size = 64\n",
    "num_epochs = 100\n",
    "accuracy_stats = []\n",
    "\n",
    "for epoch in range(num_epochs):\n",
    "    for start, end in zip(range(0, len(trX), batch_size), range(batch_size, len(trX), batch_size)):\n",
    "        cost = train(trX[start:end], trY[start:end])\n",
    "    accuracy = np.mean(Yground == predict(teX))\n",
    "    accuracy_stats.append(accuracy)\n",
    "    \n",
    "    # every 10 epochs, print some stats\n",
    "    if epoch % 10 == 0:\n",
    "        print epoch, accuracy"
   ]
  },
  {
   "cell_type": "code",
   "execution_count": 168,
   "metadata": {
    "collapsed": true
   },
   "outputs": [],
   "source": [
    "%matplotlib inline\n",
    "import matplotlib\n",
    "import numpy as np\n",
    "import matplotlib.pyplot as plt"
   ]
  },
  {
   "cell_type": "code",
   "execution_count": 169,
   "metadata": {
    "collapsed": false
   },
   "outputs": [
    {
     "data": {
      "text/plain": [
       "<matplotlib.text.Text at 0x2afe01a844d0>"
      ]
     },
     "execution_count": 169,
     "metadata": {},
     "output_type": "execute_result"
    },
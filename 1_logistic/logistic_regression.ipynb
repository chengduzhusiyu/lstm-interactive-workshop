
{
 "cells": [
  {
   "cell_type": "markdown",
   "metadata": {},
   "source": [
    "# Logistic Regression using Theano on MNIST digits dataset"
   ]
  },
  {
   "cell_type": "code",
   "execution_count": 151,
   "metadata": {
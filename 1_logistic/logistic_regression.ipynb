
{
 "cells": [
  {
   "cell_type": "markdown",
   "metadata": {},
   "source": [
    "# Logistic Regression using Theano on MNIST digits dataset"
   ]
  },
  {
   "cell_type": "code",
   "execution_count": 151,
   "metadata": {
    "collapsed": false
   },
   "outputs": [],
   "source": [
    "import theano\n",
    "from theano import tensor as T\n",
    "import numpy as np\n",
    "from load import mnist"
   ]
  },
  {
   "cell_type": "code",
   "execution_count": 152,
   "metadata": {
    "collapsed": true
   },
   "outputs": [],
   "source": [
    "def floatX(X):\n",
    "    return np.asarray(X, dtype=theano.config.floatX)\n",
    "\n",
    "def init_weights(shape):\n",
    "    return theano.shared(floatX(np.random.randn(*shape) * 0.01))\n",
    "\n",
    "def model(X, w):\n",
    "    return T.nnet.softmax(T.dot(X, w))"
   ]
  },
  {
   "cell_type": "code",
   "execution_count": 153,
   "metadata": {
    "collapsed": true
   },
   "outputs": [],
   "source": [
    "trX, teX, trY, teY = mnist(onehot=True)"
   ]
  },
  {
   "cell_type": "markdown",
   "metadata": {},
   "source": [
    "Training set (input values X). We have 784 features because MNIST images are 28x28 pixels"
   ]
  },
  {
   "cell_type": "code",
   "execution_count": 161,
   "metadata": {
    "collapsed": false
   },
   "outputs": [
    {
     "data": {
      "image/png": "iVBORw0KGgoAAAANSUhEUgAAACAAAAASCAYAAAA6yNxSAAAABHNCSVQICAgIfAhkiAAAAd1JREFU\nSInt1U2IjVEYB/Dfvdy5YmYyyVeJ8VWmkIVYkHxtJhtZWSglxazQSCRlI6wsJJ8pkkhkQWywtBA1\nKSXFgrBQLMggrsV5b/d4nfc1zWY2/nV7z33+/3Oe/3nOc96XEUYlGvfiFAbwFd/wK+If4UQ2noZ9\naKCOsTiCp//Itxs1HE6R/dmCRb/eTDcBNzE1mjsTzzG3JPkMfMHBOFiNxnMwHW0YJVSnguXCzu9k\nui24h3fR3Fe4gK0lBvYLlfoDsYGfeI0fWqVvxwHsiXSzsDqRYFAobwobcL/EXCFOYmkutk04ksvo\nymJ1PMHCxBrtOJeNG3JHUIZlOJOI14WGbAjHsAmXtHokj0OYPRwDj4XmSqEDd7Ua9BYmJ3SLhNvS\nxJANrMGzEn4vzmIdXmpVY0GkqQqN2TYcA9dxvoDbhdvR/3E4JjTuQBTvw6rc3CEZqOGzcHZ5VPAR\n8xPc9ixBD6bgeELzl4HRCdESYVcfEtxEjMeLBHcaRzEGazFPeGE10byiG4XeuIgbiXVszpz2JbgK\n3gsvpzw68Ea4JSl0S1SgmhBOyp7fE1wDO4TddkfxTqFndgrfkBRquWch1uMTFpdoVgjlvYoruIaV\nBdpOPMBbYQODeJjl+Y+Rx28b4mYCInaTiQAAAABJRU5ErkJggg==\n",
      "text/latex": [
       "$$784$$"
      ],
      "text/plain": [
       "784"
      ]
     },
     "execution_count": 161,
     "metadata": {},
     "output_type": "execute_result"
    }
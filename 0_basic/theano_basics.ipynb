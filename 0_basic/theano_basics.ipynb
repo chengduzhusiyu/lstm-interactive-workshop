
{
 "cells": [
  {
   "cell_type": "markdown",
   "metadata": {},
   "source": [
    "# Theano Basics"
   ]
  },
  {
   "cell_type": "markdown",
   "metadata": {},
   "source": [
    "## Multiplying two numbers"
   ]
  },
  {
   "cell_type": "code",
   "execution_count": 24,
   "metadata": {
    "collapsed": false
   },
   "outputs": [],
   "source": [
    "import theano\n",
    "import numpy as np\n",
    "from theano import tensor as T"
   ]
  },
  {
   "cell_type": "code",
   "execution_count": 48,
   "metadata": {
    "collapsed": false
   },
   "outputs": [
    {
     "name": "stdout",
     "output_type": "stream",
     "text": [
      "2.0\n",
      "9.0\n"
     ]
    }
   ],
   "source": [
    "a = T.scalar()\n",
    "b = T.scalar()\n",
    "y = a * b\n",
    "func = theano.function(inputs=[a, b], outputs=y)\n",
    "\n",
    "print func(1, 2) # 2.0\n",
    "print func(3, 3) # 9.0"
   ]
  },
  {
   "cell_type": "markdown",
   "metadata": {},
   "source": [
    "## Dot product of two vectors"
   ]
  },
  {
   "cell_type": "code",
   "execution_count": 26,
   "metadata": {
    "collapsed": false
   },
   "outputs": [
    {
     "name": "stdout",
     "output_type": "stream",
     "text": [
      "20.0\n"
     ]
    }
   ],
   "source": [
    "a = T.vector()\n",
    "b = T.vector()\n",
    "y = T.dot(a, b)\n",
    "func = theano.function(inputs=[a, b], outputs=y)\n",
    "\n",
    "print func(np.array([1,2,3], dtype='float32'),\n",
    "           np.array([2,3,4], dtype='float32'))"
   ]
  },
  {
   "cell_type": "markdown",
   "metadata": {},
   "source": [
    "## Matrix-matrix product"
   ]
  },
  {
   "cell_type": "code",
   "execution_count": 27,
   "metadata": {
    "collapsed": false,
    "scrolled": false
   },
   "outputs": [
    {
     "name": "stdout",
     "output_type": "stream",
     "text": [
      "[[  15.   18.   21.]\n",
      " [  42.   54.   66.]\n",
      " [  69.   90.  111.]]\n"
     ]
    }
   ],
   "source": [
    "a = T.matrix()\n",
    "b = T.matrix()\n",
    "y = T.dot(a, b)\n",
    "func = theano.function(inputs=[a, b], outputs=y)\n",
    "\n",
    "print func(np.matrix(np.arange(0, 9).reshape((3, 3)), dtype='float32'),\n",
    "           np.matrix(np.arange(0, 9).reshape((3, 3)), dtype='float32'))"
   ]
  },
  {
   "cell_type": "markdown",
   "metadata": {},
   "source": [
    "## Tensors"
   ]
  },
  {
   "cell_type": "markdown",
   "metadata": {},
   "source": [
    "<img src=\"theano_types_50.png\">"
   ]
  },
  {
   "cell_type": "code",
   "execution_count": 32,
   "metadata": {
    "collapsed": false
   },
   "outputs": [],
   "source": [
    "# note that (False,)*3 evaluates to (False, False, False)\n",
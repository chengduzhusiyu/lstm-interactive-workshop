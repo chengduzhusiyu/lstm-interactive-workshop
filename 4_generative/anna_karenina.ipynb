
{
 "cells": [
  {
   "cell_type": "code",
   "execution_count": 3,
   "metadata": {
    "collapsed": false
   },
   "outputs": [],
   "source": [
    "from __future__ import print_function\n",
    "from keras.models import Sequential\n",
    "from keras.layers.core import Dense, Activation, Dropout\n",
    "from keras.layers.recurrent import LSTM\n",
    "from keras.datasets.data_utils import get_file\n",
    "import numpy as np\n",
    "import random, sys"
   ]
  },
  {
   "cell_type": "code",
   "execution_count": null,
   "metadata": {
    "collapsed": false
   },
   "outputs": [
    {
     "name": "stdout",
     "output_type": "stream",
     "text": [
      "Downloading data from http://www.gutenberg.org/files/1399/1399-0.txt\n",
      "2048000/2041122 [==============================] - 1s     \n",
      "corpus length: 2041122\n",
      "total chars: 84\n",
      "nb sequences:"
     ]
    }
   ],
   "source": [
    "'''\n",
    "    Example script to generate text from Anna Karenina by Tolstoy.\n",
    "\n",
    "    At least 20 epochs are required before the generated text\n",
    "    starts sounding coherent.\n",
    "\n",
    "    It is recommended to run this script on GPU, as recurrent\n",
    "    networks are quite computationally intensive.\n",
    "\n",
    "    If you try this script on new data, make sure your corpus \n",
    "    has at least ~100k characters. ~1M is better.\n",
    "'''\n",
    "\n",
    "path = get_file('1399-0.txt', origin=\"http://www.gutenberg.org/files/1399/1399-0.txt\")\n",
    "text = open(path).read().lower()\n",
    "print('corpus length:', len(text))\n",
    "\n",
    "chars = set(text)\n",
    "print('total chars:', len(chars))\n",
    "char_indices = dict((c, i) for i, c in enumerate(chars))\n",
    "indices_char = dict((i, c) for i, c in enumerate(chars))\n",
    "\n",
    "# cut the text in semi-redundant sequences of maxlen characters\n",
    "maxlen = 20\n",
    "step = 3\n",
    "sentences = []\n",
    "next_chars = []\n",
    "for i in range(0, len(text) - maxlen, step):\n",
    "    sentences.append(text[i : i + maxlen])\n",
    "    next_chars.append(text[i + maxlen])\n",
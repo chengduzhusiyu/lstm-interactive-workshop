
{
 "cells": [
  {
   "cell_type": "code",
   "execution_count": 3,
   "metadata": {
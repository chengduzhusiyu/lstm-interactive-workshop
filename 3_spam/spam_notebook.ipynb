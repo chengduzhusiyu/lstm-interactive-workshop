
{
 "cells": [
  {
   "cell_type": "code",
   "execution_count": 1,
   "metadata": {
    "collapsed": false
   },
   "outputs": [
    {
     "name": "stdout",
     "output_type": "stream",
     "text": [
      "Loading raw data\n",
      "Pulling samples from file: /media/data/knighton/data/spam_fyre.txt\n",
      "Pulling samples from file: /media/data/knighton/data/ham_fyre.txt\n",
      "Building transformers\n",
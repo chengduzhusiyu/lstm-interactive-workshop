
{
 "cells": [
  {
   "cell_type": "code",
   "execution_count": 1,
   "metadata": {
    "collapsed": false
   },
   "outputs": [
    {
     "name": "stdout",
     "output_type": "stream",
     "text": [
      "Loading raw data\n",
      "Pulling samples from file: /media/data/knighton/data/spam_fyre.txt\n",
      "Pulling samples from file: /media/data/knighton/data/ham_fyre.txt\n",
      "Building transformers\n",
      "Transforming data\n",
      "Locating the most recent checkpoint\n",
      "Building model\n",
      "Vocab size: 223\n",
      "Compiling\n",
      "Training\n",
      "Train on 8000 samples, validate on 1000 samples\n",
      "Epoch 0\n",
      "8000/8000 [==============================] - 1s - loss: 0.6932 - acc: 0.4886 - val_loss: 7.9862 - val_acc: 0.5040\n",
      "models/5000_dense_0_256_6/epoch_0000_train_48772_val_50400.h5 models/5000_dense_0_256_6\n"
     ]
    },